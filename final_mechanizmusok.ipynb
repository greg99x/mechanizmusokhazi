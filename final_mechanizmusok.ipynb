{
 "cells": [
  {
   "cell_type": "code",
   "execution_count": 1,
   "metadata": {},
   "outputs": [],
   "source": [
    "import math as m\n",
    "import numpy as np\n",
    "import cv2\n",
    "import os\n",
    "import imageio\n",
    "from scipy.optimize import fsolve\n",
    "import matplotlib.pyplot as pl\n",
    "import time\n",
    "import sympy as sy"
   ]
  },
  {
   "cell_type": "markdown",
   "metadata": {},
   "source": [
    "# Adatok kód: 87"
   ]
  },
  {
   "cell_type": "code",
   "execution_count": 2,
   "metadata": {},
   "outputs": [],
   "source": [
    "omega = 8\n",
    "h = 0.05\n",
    "e = 0.03\n",
    "l3 = 0.1\n",
    "l4 = 0.12\n",
    "s = 0.8*l3\n",
    "periodtime = 2*m.pi/omega\n",
    "l1 = 26.15067129/1000\n",
    "l2 = 134.66748367/1000\n",
    "dAB = 93.91053598/1000\n",
    "xD = 0\n",
    "yD = 0\n",
    "yA = 0\n",
    "xA = -dAB\n",
    "yH = h\n",
    "step = 360\n",
    "fics = 80"
   ]
  },
  {
   "cell_type": "markdown",
   "metadata": {},
   "source": [
    "Az bal oldali szélső értékhez tartozó Fi1 szög\n",
    "A jobb oldali szélsőértékhez tartozó Fi1 szög\n",
    "A Fi* -hoz tartozó szög\n",
    "Solidworksből kiolvasot szögek segítségével"
   ]
  },
  {
   "cell_type": "code",
   "execution_count": 3,
   "metadata": {},
   "outputs": [],
   "source": [
    "fibal = 58.679/180*m.pi\n",
    "fijobb = (58.679 + 156.52)/180*m.pi\n",
    "ficsillag = (180+fics)/180*m.pi\n",
    "nbal = round(step*fibal/omega)\n",
    "njobb = round(step*fijobb/omega)\n",
    "ncsillag = round(step*ficsillag/omega)\n",
    "tbal = fibal/omega\n",
    "tjobb = fijobb/omega\n",
    "tcsillag = ficsillag/omega\n",
    "fikrit = [fibal,fijobb,ficsillag]\n",
    "tkrit = [tbal, tjobb, tcsillag]"
   ]
  },
  {
   "cell_type": "markdown",
   "metadata": {},
   "source": [
    "# Pályák"
   ]
  },
  {
   "cell_type": "code",
   "execution_count": 4,
   "metadata": {},
   "outputs": [],
   "source": [
    "def f(x):\n",
    "    fi1, fi2, fi3, xB, yB = x\n",
    "    Fvector = np.array([\n",
    "        xB - xA + l1*np.cos(fi1),\n",
    "        yB - yA + l1*np.sin(fi1),\n",
    "        xB + l2*np.cos(fi2) - (xD + l3*np.cos(fi3)),\n",
    "        yB + l2*np.sin(fi2) - (yD + l3*np.sin(fi3)),\n",
    "        fi1 - omega*t])\n",
    "    return Fvector\n",
    "\n",
    "t = 0\n",
    "results = [[],[],[],[],[],[],[],[],[],[],[],[],[],[],[],[]]\n",
    "tspace = []\n",
    "for i in range(round(periodtime*step)+1):\n",
    "    tspace.append(t)\n",
    "    if i != 0:\n",
    "        solution = fsolve(f, solution)\n",
    "    else:\n",
    "        solution = fsolve(f, [0, 0.733, 1.187, -0.067, 0])\n",
    "    currentFi3 = solution[2]\n",
    "    xC = xD + l3*np.cos(currentFi3)\n",
    "    yC = yD + l3*np.sin(currentFi3)\n",
    "    xE = xD + s*np.cos(currentFi3)\n",
    "    yE = yD + s*np.sin(currentFi3)\n",
    "    Fi4 = np.arcsin((yH-yE)/l4)\n",
    "    xH = xE + l4*np.cos(Fi4)\n",
    "    results[0].append(solution[0])\n",
    "    results[1].append(solution[1])\n",
    "    results[2].append(solution[2])\n",
    "    results[3].append(Fi4)\n",
    "    results[4].append(xA)\n",
    "    results[5].append(yA)\n",
    "    results[6].append(solution[3])\n",
    "    results[7].append(solution[4])\n",
    "    results[8].append(xC)\n",
    "    results[9].append(yC)\n",
    "    results[10].append(xD)\n",
    "    results[11].append(yD)\n",
    "    results[12].append(xE)\n",
    "    results[13].append(yE)\n",
    "    results[14].append(xH)\n",
    "    results[15].append(yH)\n",
    "    t += 1/step"
   ]
  },
  {
   "cell_type": "markdown",
   "metadata": {},
   "source": [
    "# Jakobi mátrix készítés"
   ]
  },
  {
   "cell_type": "code",
   "execution_count": 5,
   "metadata": {},
   "outputs": [
    {
     "data": {
      "text/latex": "$\\displaystyle \\left[\\begin{matrix}- 0.02615067129 \\sin{\\left(sfi_{1} \\right)} & 0 & 0 & 0 & 1 & 0 & 0 & 0 & 0\\\\0.02615067129 \\cos{\\left(sfi_{1} \\right)} & 0 & 0 & 0 & 0 & 1 & 0 & 0 & 0\\\\0 & - 0.13466748367 \\sin{\\left(sfi_{2} \\right)} & 0.1 \\sin{\\left(sfi_{3} \\right)} & 0 & 1 & 0 & 0 & 0 & 0\\\\0 & 0.13466748367 \\cos{\\left(sfi_{2} \\right)} & - 0.1 \\cos{\\left(sfi_{3} \\right)} & 0 & 0 & 1 & 0 & 0 & 0\\\\0 & 0 & - 0.08 \\sin{\\left(sfi_{3} \\right)} & 0 & 0 & 0 & 1 & 0 & 0\\\\0 & 0 & 0.08 \\cos{\\left(sfi_{3} \\right)} & 0 & 0 & 0 & 0 & 1 & 0\\\\0 & 0 & 0 & 1 & 0 & 0 & 0 & \\frac{8.33333333333333}{\\sqrt{1 - \\left(8.33333333333333 syE - 0.416666666666667\\right)^{2}}} & 0\\\\0 & 0 & 0 & - 0.12 \\sin{\\left(sfi_{4} \\right)} & 0 & 0 & -1 & 0 & 1\\\\1 & 0 & 0 & 0 & 0 & 0 & 0 & 0 & 0\\end{matrix}\\right]$",
      "text/plain": "Matrix([\n[-0.02615067129*sin(sfi1),                        0,               0,               0, 1, 0,  0,                                                                        0, 0],\n[ 0.02615067129*cos(sfi1),                        0,               0,               0, 0, 1,  0,                                                                        0, 0],\n[                       0, -0.13466748367*sin(sfi2),   0.1*sin(sfi3),               0, 1, 0,  0,                                                                        0, 0],\n[                       0,  0.13466748367*cos(sfi2),  -0.1*cos(sfi3),               0, 0, 1,  0,                                                                        0, 0],\n[                       0,                        0, -0.08*sin(sfi3),               0, 0, 0,  1,                                                                        0, 0],\n[                       0,                        0,  0.08*cos(sfi3),               0, 0, 0,  0,                                                                        1, 0],\n[                       0,                        0,               0,               1, 0, 0,  0, 8.33333333333333/sqrt(1 - (8.33333333333333*syE - 0.416666666666667)**2), 0],\n[                       0,                        0,               0, -0.12*sin(sfi4), 0, 0, -1,                                                                        0, 1],\n[                       1,                        0,               0,               0, 0, 0,  0,                                                                        0, 0]])"
     },
     "execution_count": 5,
     "metadata": {},
     "output_type": "execute_result"
    }
   ],
   "source": [
    "sfi1, sfi2, sfi3, sfi4, sxB, syB, sxE, syE, sxH=sy.symbols('sfi1, sfi2, sfi3, sfi4, sxB, syB, sxE, syE, sxH')\n",
    "X = sy.Matrix([\n",
    "    sxB - xA + l1*sy.cos(sfi1),\n",
    "    syB - yA + l1*sy.sin(sfi1),\n",
    "    sxB + l2*sy.cos(sfi2) - (xD + l3*sy.cos(sfi3)),\n",
    "    syB + l2*sy.sin(sfi2) - (yD + l3*sy.sin(sfi3)),\n",
    "    sxE - xD + s*sy.cos(sfi3),\n",
    "    syE - yD + s*sy.sin(sfi3),\n",
    "    sfi4 - sy.asin((yH-syE)/l4),\n",
    "    sxH - sxE + l4*sy.cos(sfi4),\n",
    "    sfi1 - omega*t\n",
    "])\n",
    "Q = sy.Matrix([sfi1, sfi2, sfi3, sfi4, sxB, syB, sxE, syE, sxH])\n",
    "X.jacobian(Q)"
   ]
  },
  {
   "cell_type": "markdown",
   "metadata": {},
   "source": [
    "# Numerikus kiértékelése a sebességvektornak (Jacobival)"
   ]
  },
  {
   "cell_type": "code",
   "execution_count": 6,
   "metadata": {},
   "outputs": [],
   "source": [
    "J = X.jacobian(Q)\n",
    "nJ = sy.lambdify((sfi1, sfi2, sfi3, sfi4, syE),J,\"numpy\")\n",
    "JSpace = []\n",
    "invJSpace = []\n",
    "b = np.array([0,0,0,0,0,0,0,0,-omega])\n",
    "v = []\n",
    "a = []\n",
    "for i in range(len(results[0])):\n",
    "    fi1 = results[0][i]\n",
    "    fi2 = results[1][i]\n",
    "    fi3 = results[2][i]\n",
    "    fi4 = results[3][i]\n",
    "    yE = results[13][i]\n",
    "    currentJ = nJ(fi1, fi2, fi3, fi4, yE)\n",
    "    invCurrentJ = np.linalg.inv(currentJ)\n",
    "    JSpace.append(currentJ)\n",
    "    invJSpace.append(invCurrentJ)\n",
    "    '''\n",
    "    A sebességvektor elemei:\n",
    "    sfi1, sfi2, sfi3, sfi4, sxB, syB, sxE, syE, sxH\n",
    "    '''\n",
    "\n",
    "    cv = np.dot(invCurrentJ,-b)\n",
    "    try:\n",
    "        ca = (v[i-1]-cv)*step\n",
    "        a.append(ca)\n",
    "    except:\n",
    "        pass\n",
    "    v.append(np.dot(invCurrentJ,-b))\n",
    "a.append(ca)\n",
    "a = np.array(a)\n",
    "vmod = np.transpose(v)"
   ]
  },
  {
   "cell_type": "markdown",
   "metadata": {},
   "source": [
    "# Fi3 az idő és Fi1 függvényében"
   ]
  },
  {
   "cell_type": "code",
   "execution_count": 0,
   "metadata": {},
   "outputs": [],
   "source": [
    "plotFi1var = results[0]\n",
    "plotFi3var = results[2]\n",
    "plotFi3vvar = vmod[2]\n",
    "plotFi3avar = a[...,2]\n",
    "plotxHvar = results[14]\n",
    "plotxHvvar = vmod[8]\n",
    "plotxHavar = a[...,8]\n",
    "plotFi3 = np.array([results[2] for i in range(3)]).ravel()\n",
    "plotFi1 = np.array([results[0] for i in range(3)]).ravel()\n",
    "plotFi3v = np.array([vmod[2] for i in range(3)]).ravel()\n",
    "plotFi3a = np.array([a[...,2] for i in range(3)]).ravel()\n",
    "plotxH = np.array([results[14] for i in range(3)]).ravel()\n",
    "plotxHv = np.array([vmod[8] for i in range(3)]).ravel()\n",
    "plotxHa = np.array([a[...,8] for i in range(3)]).ravel()\n",
    "test = np.zeros(len(plotxH)*5)\n",
    "test[:len(plotxH)] = plotxH\n",
    "test[len(plotxH):len(plotxH)*2] = plotxH\n",
    "test[len(plotxH)*2:len(plotxH)*3] = plotxH\n",
    "test[len(plotxH)*3:len(plotxH)*4] = plotxH\n",
    "test[len(plotxH)*4:len(plotxH)*5] = plotxH\n",
    "testspace = [i/step for i in range(len(plotFi3))]\n",
    "# t-fi3\n",
    "pl.plot(testspace,plotFi3)\n",
    "pl.scatter(tkrit[0],[plotFi3[nbal]], s=50, label='bal szélsőhelyzet')\n",
    "pl.scatter(tkrit[1],[plotFi3[njobb]], s=50, label='jobb szélsőhelyzet')\n",
    "pl.scatter(tkrit[2],[plotFi3[ncsillag]], s=50, label='Fi* helyzet')\n",
    "pl.legend(loc='upper right')\n",
    "pl.ylabel('Szöghelyzet [rad]')\n",
    "pl.xlabel('Idő [s]')\n",
    "pl.title('A hármas kar szöghelyzete az idő függvényében')\n",
    "pl.show()\n",
    "# t-fi3v\n",
    "pl.plot(testspace,plotFi3v)\n",
    "pl.scatter(tkrit[0],[plotFi3v[nbal]], s=50, label='bal szélsőhelyzet')\n",
    "pl.scatter(tkrit[1],[plotFi3v[njobb]], s=50, label='jobb szélsőhelyzet')\n",
    "pl.scatter(tkrit[2],[plotFi3v[ncsillag]], s=50, label='Fi* helyzet')\n",
    "pl.legend(loc='upper right')\n",
    "pl.ylabel('Szögsebesség [rad/s]')\n",
    "pl.xlabel('Idő [s]')\n",
    "pl.title('A hármas kar szögsebessége az idő függvényében')\n",
    "pl.show()\n",
    "# t-fi3a\n",
    "pl.plot(testspace,plotFi3a)\n",
    "pl.scatter(tkrit[0],[plotFi3a[nbal]], s=50, label='bal szélsőhelyzet')\n",
    "pl.scatter(tkrit[1],[plotFi3a[njobb]], s=50, label='jobb szélsőhelyzet')\n",
    "pl.scatter(tkrit[2],[plotFi3a[ncsillag]], s=50, label='Fi* helyzet')\n",
    "pl.legend(loc='upper right')\n",
    "pl.ylabel('Szöggyorsulás [rad/s^2]')\n",
    "pl.xlabel('Idő [s]')\n",
    "pl.title('A hármas kar szöggyorsulása az idő függvényében')\n",
    "pl.show()\n",
    "# fi1-fi3\n",
    "pl.plot(plotFi1var,plotFi3var)\n",
    "pl.scatter(fikrit[0],[plotFi3[nbal]], s=50, label='bal szélsőhelyzet')\n",
    "pl.scatter(fikrit[1],[plotFi3[njobb]], s=50, label='jobb szélsőhelyzet')\n",
    "pl.scatter(fikrit[2],[plotFi3[ncsillag]], s=50, label='Fi* helyzet')\n",
    "pl.legend(loc='upper right')\n",
    "pl.xlabel('Fi1 szöghelyzet [rad]')\n",
    "pl.ylabel('Fi3 szöghelyzet [rad]')\n",
    "pl.title('A hármas kar szöghelyzete\\naz egyes kar szöghelyzetének függvényében')\n",
    "pl.show()\n",
    "# fi1-fi3v\n",
    "pl.plot(plotFi1var,plotFi3vvar)\n",
    "pl.scatter(fikrit[0],[plotFi3v[nbal]], s=50, label='bal szélsőhelyzet')\n",
    "pl.scatter(fikrit[1],[plotFi3v[njobb]], s=50, label='jobb szélsőhelyzet')\n",
    "pl.scatter(fikrit[2],[plotFi3v[ncsillag]], s=50, label='Fi* helyzet')\n",
    "pl.legend(loc='lower right')\n",
    "pl.xlabel('Fi1 szöghelyzet [rad]')\n",
    "pl.ylabel('Fi3 szögsebesség [rad/s]')\n",
    "pl.title('A hármas kar szögsebessége\\naz egyes kar szöghelyzetének függvényében')\n",
    "pl.show()\n",
    "# fi1-fi3a\n",
    "pl.plot(plotFi1var,plotFi3avar)\n",
    "pl.scatter(fikrit[0],[plotFi3a[nbal]], s=50, label='bal szélsőhelyzet')\n",
    "pl.scatter(fikrit[1],[plotFi3a[njobb]], s=50, label='jobb szélsőhelyzet')\n",
    "pl.scatter(fikrit[2],[plotFi3a[ncsillag]], s=50, label='Fi* helyzet')\n",
    "pl.legend(loc='upper right')\n",
    "pl.xlabel('Fi1 szöghelyzet [rad]')\n",
    "pl.ylabel('Fi3 szöggyorsulás [rad/s^2]')\n",
    "pl.title('A hármas kar szöggyorsulása\\naz egyes kar szöghelyzetének függvényében')\n",
    "pl.show()\n",
    "print(plotFi3[nbal],plotFi3[njobb],plotFi3[ncsillag])\n",
    "print(plotFi3v[nbal],plotFi3v[njobb],plotFi3v[ncsillag])\n",
    "print(plotFi3a[nbal],plotFi3a[njobb],plotFi3a[ncsillag])"
   ]
  },
  {
   "cell_type": "markdown",
   "metadata": {},
   "source": [
    "# A H csukló az idő és f1 függvényében"
   ]
  },
  {
   "cell_type": "code",
   "execution_count": 7,
   "metadata": {},
   "outputs": [
    {
     "ename": "NameError",
     "evalue": "name 'testspace' is not defined",
     "output_type": "error",
     "traceback": [
      "\u001b[1;31m---------------------------------------------------------------------------\u001b[0m",
      "\u001b[1;31mNameError\u001b[0m                                 Traceback (most recent call last)",
      "\u001b[1;32m<ipython-input-7-7d5ca208648e>\u001b[0m in \u001b[0;36m<module>\u001b[1;34m\u001b[0m\n\u001b[0;32m      1\u001b[0m \u001b[1;31m# t-xH\u001b[0m\u001b[1;33m\u001b[0m\u001b[1;33m\u001b[0m\u001b[1;33m\u001b[0m\u001b[0m\n\u001b[1;32m----> 2\u001b[1;33m \u001b[0mpl\u001b[0m\u001b[1;33m.\u001b[0m\u001b[0mplot\u001b[0m\u001b[1;33m(\u001b[0m\u001b[0mtestspace\u001b[0m\u001b[1;33m,\u001b[0m\u001b[0mplotxH\u001b[0m\u001b[1;33m)\u001b[0m\u001b[1;33m\u001b[0m\u001b[1;33m\u001b[0m\u001b[0m\n\u001b[0m\u001b[0;32m      3\u001b[0m \u001b[0mpl\u001b[0m\u001b[1;33m.\u001b[0m\u001b[0mscatter\u001b[0m\u001b[1;33m(\u001b[0m\u001b[0mtkrit\u001b[0m\u001b[1;33m[\u001b[0m\u001b[1;36m0\u001b[0m\u001b[1;33m]\u001b[0m\u001b[1;33m,\u001b[0m\u001b[1;33m[\u001b[0m\u001b[0mplotxH\u001b[0m\u001b[1;33m[\u001b[0m\u001b[0mnbal\u001b[0m\u001b[1;33m]\u001b[0m\u001b[1;33m]\u001b[0m\u001b[1;33m,\u001b[0m \u001b[0ms\u001b[0m\u001b[1;33m=\u001b[0m\u001b[1;36m50\u001b[0m\u001b[1;33m,\u001b[0m \u001b[0mlabel\u001b[0m\u001b[1;33m=\u001b[0m\u001b[1;34m'bal szélsőhelyzet'\u001b[0m\u001b[1;33m)\u001b[0m\u001b[1;33m\u001b[0m\u001b[1;33m\u001b[0m\u001b[0m\n\u001b[0;32m      4\u001b[0m \u001b[0mpl\u001b[0m\u001b[1;33m.\u001b[0m\u001b[0mscatter\u001b[0m\u001b[1;33m(\u001b[0m\u001b[0mtkrit\u001b[0m\u001b[1;33m[\u001b[0m\u001b[1;36m1\u001b[0m\u001b[1;33m]\u001b[0m\u001b[1;33m,\u001b[0m\u001b[1;33m[\u001b[0m\u001b[0mplotxH\u001b[0m\u001b[1;33m[\u001b[0m\u001b[0mnjobb\u001b[0m\u001b[1;33m]\u001b[0m\u001b[1;33m]\u001b[0m\u001b[1;33m,\u001b[0m \u001b[0ms\u001b[0m\u001b[1;33m=\u001b[0m\u001b[1;36m50\u001b[0m\u001b[1;33m,\u001b[0m \u001b[0mlabel\u001b[0m\u001b[1;33m=\u001b[0m\u001b[1;34m'jobb szélsőhelyzet'\u001b[0m\u001b[1;33m)\u001b[0m\u001b[1;33m\u001b[0m\u001b[1;33m\u001b[0m\u001b[0m\n\u001b[0;32m      5\u001b[0m \u001b[0mpl\u001b[0m\u001b[1;33m.\u001b[0m\u001b[0mscatter\u001b[0m\u001b[1;33m(\u001b[0m\u001b[0mtkrit\u001b[0m\u001b[1;33m[\u001b[0m\u001b[1;36m2\u001b[0m\u001b[1;33m]\u001b[0m\u001b[1;33m,\u001b[0m\u001b[1;33m[\u001b[0m\u001b[0mplotxH\u001b[0m\u001b[1;33m[\u001b[0m\u001b[0mncsillag\u001b[0m\u001b[1;33m]\u001b[0m\u001b[1;33m]\u001b[0m\u001b[1;33m,\u001b[0m \u001b[0ms\u001b[0m\u001b[1;33m=\u001b[0m\u001b[1;36m50\u001b[0m\u001b[1;33m,\u001b[0m \u001b[0mlabel\u001b[0m\u001b[1;33m=\u001b[0m\u001b[1;34m'Fi* helyzet'\u001b[0m\u001b[1;33m)\u001b[0m\u001b[1;33m\u001b[0m\u001b[1;33m\u001b[0m\u001b[0m\n",
      "\u001b[1;31mNameError\u001b[0m: name 'testspace' is not defined"
     ]
    }
   ],
   "source": [
    "\n",
    "# t-xH\n",
    "pl.plot(testspace,plotxH)\n",
    "pl.scatter(tkrit[0],[plotxH[nbal]], s=50, label='bal szélsőhelyzet')\n",
    "pl.scatter(tkrit[1],[plotxH[njobb]], s=50, label='jobb szélsőhelyzet')\n",
    "pl.scatter(tkrit[2],[plotxH[ncsillag]], s=50, label='Fi* helyzet')\n",
    "pl.legend(loc='upper right')\n",
    "pl.xlabel('Idő [s]')\n",
    "pl.ylabel('Hx [m]')\n",
    "pl.title('A H csukló x pozíciója az idő függvényében')\n",
    "pl.show()\n",
    "# t-xHv\n",
    "pl.plot(testspace,plotxHv)\n",
    "pl.scatter(tkrit[0],[plotxHv[nbal]], s=50, label='bal szélsőhelyzet')\n",
    "pl.scatter(tkrit[1],[plotxHv[njobb]], s=50, label='jobb szélsőhelyzet')\n",
    "pl.scatter(tkrit[2],[plotxHv[ncsillag]], s=50, label='Fi* helyzet')\n",
    "pl.legend(loc='upper right')\n",
    "pl.ylabel('Sebesség [m/s]')\n",
    "pl.xlabel('Idő [s]')\n",
    "pl.title('A H csukló sebessége az idő függvényében')\n",
    "pl.show()\n",
    "# t-xHa\n",
    "pl.plot(testspace,plotxHa)\n",
    "pl.scatter(tkrit[0],[plotxHa[nbal]], s=50, label='bal szélsőhelyzet')\n",
    "pl.scatter(tkrit[1],[plotxHa[njobb]], s=50, label='jobb szélsőhelyzet')\n",
    "pl.scatter(tkrit[2],[plotxHa[ncsillag]], s=50, label='Fi* helyzet')\n",
    "pl.legend(loc='upper right')\n",
    "pl.ylabel('Gyorsulás [m/s^2]')\n",
    "pl.xlabel('Idő [s]')\n",
    "pl.title('A H csukló gyorsulása az idő függvényében')\n",
    "pl.show()\n",
    "# t-xH\n",
    "\n",
    "pl.plot(plotFi1var,plotxHvar)\n",
    "pl.scatter(fikrit[0],[plotxH[nbal]], s=50, label='bal szélsőhelyzet')\n",
    "pl.scatter(fikrit[1],[plotxH[njobb]], s=50, label='jobb szélsőhelyzet')\n",
    "pl.scatter(fikrit[2],[plotxH[ncsillag]], s=50, label='Fi* helyzet')\n",
    "pl.legend(loc='lower right')\n",
    "pl.xlabel('Fi1 [rad]')\n",
    "pl.ylabel('Hx [m]')\n",
    "pl.title('A H csukló x pozíciója Fi1 függvényében')\n",
    "pl.show()\n",
    "# t-xHv\n",
    "pl.plot(plotFi1var,plotxHvvar)\n",
    "pl.scatter(fikrit[0],[plotxHv[nbal]], s=50, label='bal szélsőhelyzet')\n",
    "pl.scatter(fikrit[1],[plotxHv[njobb]], s=50, label='jobb szélsőhelyzet')\n",
    "pl.scatter(fikrit[2],[plotxHv[ncsillag]], s=50, label='Fi* helyzet')\n",
    "pl.legend(loc='lower right')\n",
    "pl.ylabel('Sebesség [m/s]')\n",
    "pl.xlabel('Fi1 [rad]')\n",
    "pl.title('A H csukló sebessége Fi1 függvényében')\n",
    "pl.show()\n",
    "# t-xHa\n",
    "pl.plot(plotFi1var,plotxHavar)\n",
    "pl.scatter(fikrit[0],[plotxHa[nbal]], s=50, label='bal szélsőhelyzet')\n",
    "pl.scatter(fikrit[1],[plotxHa[njobb]], s=50, label='jobb szélsőhelyzet')\n",
    "pl.scatter(fikrit[2],[plotxHa[ncsillag]], s=50, label='Fi* helyzet')\n",
    "pl.legend(loc='upper right')\n",
    "pl.ylabel('Gyorsulás [m/s^2]')\n",
    "pl.xlabel('Fi1 [rad]')\n",
    "pl.title('A H csukló gyorsulása Fi1 függvényében')\n",
    "pl.show()\n",
    "print(plotxH[nbal],plotxH[njobb],plotxH[ncsillag])\n",
    "print(plotxHv[nbal],plotxHv[njobb],plotxHv[ncsillag])\n",
    "print(plotxHa[nbal],plotxHa[njobb],plotxHa[ncsillag])"
   ]
  },
  {
   "cell_type": "markdown",
   "metadata": {},
   "source": [
    "# Bemenő nyomaték, kivett erő arány számítása"
   ]
  },
  {
   "cell_type": "code",
   "execution_count": 10,
   "metadata": {},
   "outputs": [
    {
     "data": {
      "text/latex": "$\\displaystyle \\left[\\begin{matrix}2 xB + 0.18782107196 & 2 yB & 0 & 0 & 0 & 0 & 0\\\\2 xB - 2 xC & 2 yB - 2 yC & - 2 xB + 2 xC & - 2 yB + 2 yC & 0 & 0 & 0\\\\0 & 0 & 2 xC & 2 yC & 0 & 0 & 0\\\\0 & 0 & 0 & 0 & 2 xE & 2 yE & 0\\\\0 & 0 & 2 xC - 2 xE & 2 yC - 2 yE & - 2 xC + 2 xE & - 2 yC + 2 yE & 0\\\\0 & 0 & 0 & 0 & 2 xE - 2 xH & 2 yE - 0.1 & - 2 xE + 2 xH\\\\0 & 0 & 0 & 0 & 0 & 0 & 1\\end{matrix}\\right]$",
      "text/plain": "Matrix([\n[2*xB + 0.18782107196,        2*yB,            0,            0,            0,            0,            0],\n[         2*xB - 2*xC, 2*yB - 2*yC, -2*xB + 2*xC, -2*yB + 2*yC,            0,            0,            0],\n[                   0,           0,         2*xC,         2*yC,            0,            0,            0],\n[                   0,           0,            0,            0,         2*xE,         2*yE,            0],\n[                   0,           0,  2*xC - 2*xE,  2*yC - 2*yE, -2*xC + 2*xE, -2*yC + 2*yE,            0],\n[                   0,           0,            0,            0,  2*xE - 2*xH,   2*yE - 0.1, -2*xE + 2*xH],\n[                   0,           0,            0,            0,            0,            0,            1]])"
     },
     "execution_count": 10,
     "metadata": {},
     "output_type": "execute_result"
    }
   ],
   "source": [
    "# Adott: xA, yA, xD, yD, yH\n",
    "xB, yB, xC, yC, xE, yE, xH=sy.symbols('xB, yB, xC, yC, xE, yE, xH')\n",
    "F = sy.Matrix([\n",
    "    (yA-yB)**2 + (xA-xB)**2 - l1**2,\n",
    "    (yC-yB)**2 + (xC-xB)**2 - l2**2,\n",
    "    (yD-yC)**2 + (xD-xC)**2 - l3**2,\n",
    "    (yD-yE)**2 + (xD-xE)**2 - s**2,\n",
    "    (yC-yE)**2 + (xC-xE)**2 - (l3-s)**2,\n",
    "    (yE-yH)**2 + (xE-xH)**2 - l4**2,\n",
    "    xH\n",
    "])\n",
    "szabadsagfok = sy.Matrix([xB, yB, xC, yC, xE, yE, xH])\n",
    "F.jacobian(szabadsagfok)"
   ]
  },
  {
   "cell_type": "code",
   "execution_count": 19,
   "metadata": {},
   "outputs": [
    {
     "name": "stdout",
     "output_type": "stream",
     "text": "488.79825508072486\n0.16366670537068106 8.0\n[ 4.24368713e+03 -7.97453969e+03 -2.12184356e+03  2.65230445e+02\n -4.71143916e-13  2.35571958e-13  0.00000000e+00]\n[ 3.08959761e+03  1.59814572e+03  1.04904038e+19 -1.31130048e+19\n -5.24520190e+19  1.46818466e+03 -3.43035259e+02]\n[ 5.99312304e+03  1.69116860e+03  1.12009890e+19 -1.40012362e+19\n -5.60049450e+19  1.56763462e+03 -3.66271331e+02]\n"
    }
   ],
   "source": [
    "q = np.array(results.copy())\n",
    "q = q[...,ncsillag]\n",
    "'''\n",
    "A fentebb felírt mátrixban szereplő szabadságfokok + vezetőkényszer vektora:\n",
    "q = xB, yB, xC, yC, xE, yE, xH\n",
    "Ahol xH a vezető tag aminek az előírt pályán kell mozognia\n",
    "xB és yB helyen hat erő, mely a behajtó nyomatékból származik, és nagysága egyenlő Q-ban szereplő értékkel\n",
    "'''\n",
    "Jq = F.jacobian(szabadsagfok)\n",
    "Jq = sy.lambdify([xB, yB, xC, yC, xE, yE, xH],Jq,\"numpy\")\n",
    "nJq = Jq(q[6],q[7],q[8],q[9],q[12],q[13],q[14])\n",
    "Jqt = np.transpose(nJq)\n",
    "invJqt = np.linalg.inv(Jqt)\n",
    "Q = np.array([10*(q[5]-q[7])/l1**2,10*(q[4]-q[6])/l1**2,0,0,0,0,0])\n",
    "Q2 = np.array([10*np.sin(q[0])/l1,10*np.cos(q[0])/l1,0,0,0,0,0])\n",
    "Q3 = np.array([-10*(q[7]-q[5])/l1**2,10*(q[6]-q[4])/l1**2,0,0,0,0,0])\n",
    "\n",
    "vxh = vmod[8,ncsillag]\n",
    "omega1 = vmod[0,ncsillag]\n",
    "print(10*omega1/vxh)\n",
    "print(vxh, omega1)\n",
    "\n",
    "# lam1, lam2, lam3, lam4, lam5, lam6, lam7, lam8, nu\n",
    "\n",
    "print(Q.dot(invJqt))\n",
    "print(invJqt.dot(Q2))\n",
    "print(invJqt.dot(Q3))"
   ]
  },
  {
   "cell_type": "markdown",
   "metadata": {},
   "source": [
    "# Pályák skálázása kirajzoláshoz"
   ]
  },
  {
   "cell_type": "code",
   "execution_count": 105,
   "metadata": {},
   "outputs": [],
   "source": [
    "paths = []\n",
    "paths = results[4:]\n",
    "scale = 3000\n",
    "shiftX = 400\n",
    "shiftY = 550\n",
    "\n",
    "for i in range(len(paths)):\n",
    "    for j in range(len(paths[i])):\n",
    "        if i % 2 == 0:\n",
    "            paths[i][j] *= scale\n",
    "            paths[i][j] += shiftX\n",
    "            paths[i][j] = int(round(paths[i][j]))\n",
    "        else:\n",
    "            paths[i][j] *= scale\n",
    "            paths[i][j] += shiftY\n",
    "            paths[i][j] = int(round(paths[i][j]))"
   ]
  },
  {
   "cell_type": "markdown",
   "metadata": {},
   "source": [
    "# GIF készítés"
   ]
  },
  {
   "cell_type": "code",
   "execution_count": 106,
   "metadata": {},
   "outputs": [],
   "source": [
    "def makegif():\n",
    "    frames = []\n",
    "    for file_name in os.listdir(os.getcwd()):\n",
    "        if file_name.endswith('.jpg'):\n",
    "            frames.append(file_name)\n",
    "    with imageio.get_writer('animacio.gif', mode='I', fps=round(periodtime*60)) as writer:\n",
    "        for filename in frames:\n",
    "            image = imageio.imread(filename)\n",
    "            writer.append_data(image)\n",
    "            os.remove(filename)\n",
    "        writer.close()"
   ]
  },
  {
   "cell_type": "markdown",
   "metadata": {},
   "source": [
    "# Animálás"
   ]
  },
  {
   "cell_type": "code",
   "execution_count": null,
   "metadata": {},
   "outputs": [],
   "source": []
  },
  {
   "cell_type": "code",
   "execution_count": 107,
   "metadata": {},
   "outputs": [],
   "source": [
    "def parseImage(canvas, image, coords):\n",
    "    height, width = image.shape[:2]\n",
    "    x = coords[1]\n",
    "    y = coords[0]\n",
    "    try:\n",
    "        canvas[x:x+height, y:y+width,:] = image\n",
    "    except:\n",
    "        return\n",
    "\n",
    "canvas = np.zeros((500,950,3), np.uint8)\n",
    "x, y = canvas.shape[:2]\n",
    "gorgosTamasz = cv2.imread('./resources/gorgos_tamasz2.png')\n",
    "gorgosTamasz = cv2.resize(gorgosTamasz, (50, 50))\n",
    "csuszka = cv2.imread('./resources/csuszka.png')\n",
    "csuszka = cv2.resize(csuszka, (75, 50))\n",
    "blue = (255,127,0)\n",
    "font = cv2.FONT_HERSHEY_SIMPLEX \n",
    "org = (50, 50) \n",
    "fontScale = 1\n",
    "color = (255, 255, 255)\n",
    "thickness = 2\n",
    "\n",
    "for i in range(len(paths[0])):\n",
    "\n",
    "    canvas = np.zeros((500,950,3), np.uint8)\n",
    "    cv2.putText(canvas, 'Bal sz.h.: 238fok     Jobb sz.h: 35fok ', org, font, fontScale, color, thickness, cv2.LINE_AA) \n",
    "    parseImage(canvas, gorgosTamasz, (paths[6][i]-25,y-paths[7][i]))\n",
    "    parseImage(canvas, gorgosTamasz, (paths[0][i]-25,y-paths[1][i]))\n",
    "    parseImage(canvas, csuszka, (paths[10][i]-25,y-paths[11][i]-25))\n",
    "    \n",
    "    cv2.line(canvas,(paths[0][i],y-paths[1][i]),(paths[2][i],y-paths[3][i]),blue, 5)\n",
    "    cv2.line(canvas,(paths[2][i],y-paths[3][i]),(paths[4][i],y-paths[5][i]),blue, 5)\n",
    "    cv2.line(canvas,(paths[4][i],y-paths[5][i]),(paths[6][i],y-paths[7][i]),blue, 5)\n",
    "    cv2.line(canvas,(paths[8][i],y-paths[9][i]),(paths[10][i],y-paths[11][i]),blue, 5)\n",
    "    \n",
    "    cv2.circle(canvas, (paths[0][i],y-paths[1][i]), 12, (100,100,100), -1)\n",
    "    cv2.circle(canvas, (paths[2][i],y-paths[3][i]), 12, (100,100,100), -1)\n",
    "    cv2.circle(canvas, (paths[4][i],y-paths[5][i]), 12, (100,100,100), -1)\n",
    "    cv2.circle(canvas, (paths[6][i],y-paths[7][i]), 12, (100,100,100), -1)\n",
    "    cv2.circle(canvas, (paths[8][i],y-paths[9][i]), 12, (100,100,100), -1)\n",
    "    cv2.circle(canvas, (paths[10][i],y-paths[11][i]), 12, (100,100,100), -1)\n",
    "    cv2.imwrite(('frame%s.jpg' % str(i).zfill(4)), canvas)\n",
    "\n",
    "makegif()\n",
    "cv2.imshow('Test', canvas)\n",
    "cv2.waitKey()\n",
    "cv2.destroyAllWindows()"
   ]
  }
 ],
 "metadata": {
  "kernelspec": {
   "display_name": "Python 3",
   "language": "python",
   "name": "python3"
  },
  "language_info": {
   "codemirror_mode": {
    "name": "ipython",
    "version": 3
   },
   "file_extension": ".py",
   "mimetype": "text/x-python",
   "name": "python",
   "nbconvert_exporter": "python",
   "pygments_lexer": "ipython3",
   "version": "3.7.4"
  }
 },
 "nbformat": 4,
 "nbformat_minor": 2
}